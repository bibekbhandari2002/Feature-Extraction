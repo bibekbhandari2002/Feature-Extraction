{
 "cells": [
  {
   "cell_type": "code",
   "execution_count": 3,
   "id": "d7c8bbf9",
   "metadata": {},
   "outputs": [
    {
     "name": "stdout",
     "output_type": "stream",
     "text": [
      "Array: [0.23222743 0.4064537  0.96113383 0.96062036 0.46645685 0.44308922\n",
      " 0.09694334 0.18443454 0.28934102 0.94805557]\n",
      "Mean: 0.49887558717112734\n",
      "Variance: 0.10167871557792038\n"
     ]
    }
   ],
   "source": [
    "import numpy as np\n",
    "N = 10  \n",
    "array = np.random.rand(N)\n",
    "mean = np.mean(array)\n",
    "variance = np.var(array)\n",
    "\n",
    "print(f\"Array: {array}\")\n",
    "print(f\"Mean: {mean}\")\n",
    "print(f\"Variance: {variance}\")\n",
    "\n",
    "m = sum(array) / N\n",
    "print(m)\n",
    "v = sum((xi - mean) ** 2 for xi in array) / N\n",
    "print(v)"
   ]
  },
  {
   "cell_type": "code",
   "execution_count": 4,
   "id": "885a2204",
   "metadata": {},
   "outputs": [
    {
     "name": "stdout",
     "output_type": "stream",
     "text": [
      "Vector X: [0.50244501 0.23797946 0.22125459 0.97650555 0.40814225 0.56153897\n",
      " 0.89373176 0.1261063  0.8653368  0.35019369]\n",
      "Vector Y: [0.47980196 0.40025372 0.24481264 0.76424628 0.13612683 0.14335192\n",
      " 0.9166204  0.34438524 0.41270219 0.49642992]\n",
      "Mean of Vector X: 0.5143234385606912\n",
      "Mean of Vector Y: 0.43387311050821237\n",
      "Covariance: 0.0434943550636643\n",
      "0.04349435506366431\n"
     ]
    }
   ],
   "source": [
    "import numpy as np\n",
    "M = 10 \n",
    "X = np.random.rand(M)\n",
    "Y = np.random.rand(M)\n",
    "mean_X = np.mean(X)\n",
    "mean_Y = np.mean(Y)\n",
    "\n",
    "# Calculate covariance manually\n",
    "covariance = sum((X[i] - mean_X) * (Y[i] - mean_Y) for i in range(M)) / M\n",
    "print(f\"Vector X: {X}\")\n",
    "print(f\"Vector Y: {Y}\")\n",
    "print(f\"Mean of Vector X: {mean_X}\")\n",
    "print(f\"Mean of Vector Y: {mean_Y}\")\n",
    "print(f\"Covariance: {covariance}\")\n",
    "\n",
    "# Calculate covariance using inbuilt function\n",
    "covariance_matrix = np.cov(Y, bias=True)\n",
    "covx = covariance_matrix[0, 1]\n",
    "print(covx)"
   ]
  },
  {
   "cell_type": "code",
   "execution_count": 5,
   "id": "0a662522",
   "metadata": {},
   "outputs": [
    {
     "name": "stdout",
     "output_type": "stream",
     "text": [
      "Vector X: [0.78141198 0.85433745 0.14428691 0.29236332 0.74058893 0.85409736\n",
      " 0.19710278 0.34929945 0.86215962 0.50163945]\n",
      "Vector Y: [0.70996902 0.15512109 0.93053207 0.33912751 0.40345371 0.75973881\n",
      " 0.12032879 0.22550553 0.6677379  0.70074041]\n",
      "Correlation: 0.1360512456607195\n"
     ]
    }
   ],
   "source": [
    "import numpy as np\n",
    "\n",
    "N = 10 \n",
    "X = np.random.rand(N)\n",
    "Y = np.random.rand(N)\n",
    "\n",
    "correlation_matrix = np.corrcoef(X, Y)\n",
    "correlation = correlation_matrix[0, 1]  # Extract the correlation value\n",
    "print(f\"Vector X: {X}\")\n",
    "print(f\"Vector Y: {Y}\")\n",
    "print(f\"Correlation: {correlation}\")\n"
   ]
  },
  {
   "cell_type": "code",
   "execution_count": 6,
   "id": "7fba3f89",
   "metadata": {},
   "outputs": [
    {
     "name": "stdout",
     "output_type": "stream",
     "text": [
      "Matrix (M x N):\n",
      "[[0.67911585 0.02921117 0.27159168 0.35742261 0.45808762 0.26438751\n",
      "  0.39100788 0.42328388 0.8375112  0.86986524]\n",
      " [0.89598433 0.64222442 0.2780442  0.78961883 0.92770874 0.93770493\n",
      "  0.92322077 0.45354344 0.50980532 0.28124608]\n",
      " [0.0018381  0.98970822 0.98649178 0.38421164 0.16214659 0.74244168\n",
      "  0.78930931 0.63770569 0.45924841 0.16654063]\n",
      " [0.12791561 0.2839783  0.48756462 0.4418311  0.53722961 0.06011888\n",
      "  0.60905072 0.07475899 0.64568632 0.41873462]]\n",
      "\n",
      "Covariance Matrix:\n",
      "[[ 0.06344564 -0.01592471 -0.06231582  0.01331636]\n",
      " [-0.01592471  0.06452534 -0.01713172 -0.00684157]\n",
      " [-0.06231582 -0.01713172  0.1116285  -0.00028412]\n",
      " [ 0.01331636 -0.00684157 -0.00028412  0.04316511]]\n",
      "\n",
      "Correlation Matrix:\n",
      "[[ 1.         -0.2488889  -0.74047409  0.25445915]\n",
      " [-0.2488889   1.         -0.20185902 -0.12963556]\n",
      " [-0.74047409 -0.20185902  1.         -0.00409306]\n",
      " [ 0.25445915 -0.12963556 -0.00409306  1.        ]]\n"
     ]
    }
   ],
   "source": [
    "import numpy as np\n",
    "M = 4  # Number of features\n",
    "N = 10  # Number of samples\n",
    "matrix = np.random.rand(M, N)\n",
    "\n",
    "covariance_matrix = np.cov(matrix, rowvar=True, bias=True)\n",
    "correlation_matrix = np.corrcoef(matrix)\n",
    "print(\"Matrix (M x N):\")\n",
    "print(matrix)\n",
    "print(\"\\nCovariance Matrix:\")\n",
    "print(covariance_matrix)\n",
    "print(\"\\nCorrelation Matrix:\")\n",
    "print(correlation_matrix)\n"
   ]
  },
  {
   "cell_type": "code",
   "execution_count": null,
   "id": "6a3a34e1",
   "metadata": {},
   "outputs": [],
   "source": []
  }
 ],
 "metadata": {
  "kernelspec": {
   "display_name": "Python 3 (ipykernel)",
   "language": "python",
   "name": "python3"
  },
  "language_info": {
   "codemirror_mode": {
    "name": "ipython",
    "version": 3
   },
   "file_extension": ".py",
   "mimetype": "text/x-python",
   "name": "python",
   "nbconvert_exporter": "python",
   "pygments_lexer": "ipython3",
   "version": "3.11.4"
  }
 },
 "nbformat": 4,
 "nbformat_minor": 5
}
